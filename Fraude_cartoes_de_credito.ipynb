{
  "cells": [
    {
      "cell_type": "markdown",
      "metadata": {
        "id": "view-in-github",
        "colab_type": "text"
      },
      "source": [
        "<a href=\"https://colab.research.google.com/github/DeboraOliver/fraud_detection_project/blob/main/Fraude_cartoes_de_credito.ipynb\" target=\"_parent\"><img src=\"https://colab.research.google.com/assets/colab-badge.svg\" alt=\"Open In Colab\"/></a>"
      ]
    },
    {
      "cell_type": "markdown",
      "source": [
        "# Instruções gerais"
      ],
      "metadata": {
        "id": "GCWj_qDrzn-q"
      }
    },
    {
      "cell_type": "markdown",
      "source": [
        "Para que se possa utilizar os códigos contidos nesse colab, é necessário fazer upload do dataset e colocá-lo na mesma altura do código. Na seção \"Pré-processamento dos dados\" é onde fazemos a leitura do dataset, veja o código e os comentários para entender melhor. Dê preferência para utilizar esses códigos no Goole colab ao invés de rodar localmente.\n",
        "\n",
        "Esse projeto busca detectar fraudes em cartões de crédito baseado nas seguintes características:\n",
        "*   **distance_from_home**: Distância entre a casa e o local em que o cartão foi utilizado.\n",
        "*   **distance_from_last_transaction**: Distância para o último local em que o cartão foi utilizado.\n",
        "*   **ratio_to_median_purchase_price**: Razão da transação do preço de compra para o preço de compra mediano\n",
        "*   **repeat_retailer**: É a transação que aconteceu do mesmo varejista.\n",
        "*   **used_chip**: É a transação através de chip (cartão de crédito).\n",
        "*   **used_pin_number**: A transação aconteceu usando o número PIN.\n",
        "*   **online_order**: A transação é um pedido online.\n",
        "\n",
        "A base de dados é rotulada:\n",
        "*   **fraud**: A transação é fraudulenta.\n",
        "\n",
        "Por se tratar de uma base rotulada utilizaremos algoritmos de machine learning de aprendizado supervisionado. \n",
        "\n",
        "Mais informações, basta seguir as células abaixo!"
      ],
      "metadata": {
        "id": "qqG219t-zvSM"
      }
    },
    {
      "cell_type": "markdown",
      "metadata": {
        "id": "i0KfSujwh8a_"
      },
      "source": [
        "# Bibliotecas e pacotes "
      ]
    },
    {
      "cell_type": "markdown",
      "metadata": {
        "id": "27FmjsTv3DEP"
      },
      "source": [
        "Importando as bibliotecas e pacotes necessários"
      ]
    },
    {
      "cell_type": "code",
      "execution_count": 40,
      "metadata": {
        "id": "rX-3yhu9XWz3"
      },
      "outputs": [],
      "source": [
        "# Arrays e gráficos\n",
        "import pandas as pd\n",
        "import numpy as np\n",
        "import seaborn as sns\n",
        "\n",
        "# undersampling\n",
        "from imblearn.under_sampling import TomekLinks\n",
        "\n",
        "# Preprocessamento\n",
        "from sklearn.model_selection import train_test_split\n",
        "from sklearn.preprocessing import StandardScaler\n",
        "from sklearn.preprocessing import LabelEncoder\n",
        "\n",
        "# Modelos\n",
        "from sklearn.ensemble import RandomForestClassifier\n",
        "from sklearn.naive_bayes import GaussianNB\n",
        "from sklearn.svm import SVC\n",
        "from sklearn.linear_model import LogisticRegression\n",
        "\n",
        "# Métricas de avaliação dos modelos\n",
        "from sklearn.metrics import accuracy_score, precision_score, recall_score, f1_score, confusion_matrix, ConfusionMatrixDisplay"
      ]
    },
    {
      "cell_type": "markdown",
      "metadata": {
        "id": "UTrxiaJ5h-43"
      },
      "source": [
        "# Pré-processamento dos dados"
      ]
    },
    {
      "cell_type": "code",
      "execution_count": 41,
      "metadata": {
        "id": "yRgXvzlrh3LW",
        "colab": {
          "base_uri": "https://localhost:8080/",
          "height": 364
        },
        "outputId": "b75ae3bd-fb24-4de3-b999-213a790164dd"
      },
      "outputs": [
        {
          "output_type": "execute_result",
          "data": {
            "text/plain": [
              "       distance_from_home  distance_from_last_transaction  \\\n",
              "count        41242.000000                    41242.000000   \n",
              "mean            26.936940                        5.115023   \n",
              "std             66.286331                       25.057121   \n",
              "min              0.021322                        0.000705   \n",
              "25%              3.907375                        0.299326   \n",
              "50%             10.038226                        1.008806   \n",
              "75%             25.940708                        3.399941   \n",
              "max           4601.011222                     1872.446884   \n",
              "\n",
              "       ratio_to_median_purchase_price  repeat_retailer     used_chip  \\\n",
              "count                    41242.000000     41242.000000  41242.000000   \n",
              "mean                         1.801843         0.885238      0.351996   \n",
              "std                          2.683173         0.318738      0.477598   \n",
              "min                          0.011373         0.000000      0.000000   \n",
              "25%                          0.475117         1.000000      0.000000   \n",
              "50%                          0.995767         1.000000      0.000000   \n",
              "75%                          2.076656         1.000000      1.000000   \n",
              "max                         65.150879         1.000000      1.000000   \n",
              "\n",
              "       used_pin_number  online_order         fraud  \n",
              "count     41242.000000  41242.000000  41242.000000  \n",
              "mean          0.102323      0.650453      0.087484  \n",
              "std           0.303076      0.476833      0.282546  \n",
              "min           0.000000      0.000000      0.000000  \n",
              "25%           0.000000      0.000000      0.000000  \n",
              "50%           0.000000      1.000000      0.000000  \n",
              "75%           0.000000      1.000000      0.000000  \n",
              "max           1.000000      1.000000      1.000000  "
            ],
            "text/html": [
              "\n",
              "  <div id=\"df-2bb60679-d37a-40dc-8141-830066785618\">\n",
              "    <div class=\"colab-df-container\">\n",
              "      <div>\n",
              "<style scoped>\n",
              "    .dataframe tbody tr th:only-of-type {\n",
              "        vertical-align: middle;\n",
              "    }\n",
              "\n",
              "    .dataframe tbody tr th {\n",
              "        vertical-align: top;\n",
              "    }\n",
              "\n",
              "    .dataframe thead th {\n",
              "        text-align: right;\n",
              "    }\n",
              "</style>\n",
              "<table border=\"1\" class=\"dataframe\">\n",
              "  <thead>\n",
              "    <tr style=\"text-align: right;\">\n",
              "      <th></th>\n",
              "      <th>distance_from_home</th>\n",
              "      <th>distance_from_last_transaction</th>\n",
              "      <th>ratio_to_median_purchase_price</th>\n",
              "      <th>repeat_retailer</th>\n",
              "      <th>used_chip</th>\n",
              "      <th>used_pin_number</th>\n",
              "      <th>online_order</th>\n",
              "      <th>fraud</th>\n",
              "    </tr>\n",
              "  </thead>\n",
              "  <tbody>\n",
              "    <tr>\n",
              "      <th>count</th>\n",
              "      <td>41242.000000</td>\n",
              "      <td>41242.000000</td>\n",
              "      <td>41242.000000</td>\n",
              "      <td>41242.000000</td>\n",
              "      <td>41242.000000</td>\n",
              "      <td>41242.000000</td>\n",
              "      <td>41242.000000</td>\n",
              "      <td>41242.000000</td>\n",
              "    </tr>\n",
              "    <tr>\n",
              "      <th>mean</th>\n",
              "      <td>26.936940</td>\n",
              "      <td>5.115023</td>\n",
              "      <td>1.801843</td>\n",
              "      <td>0.885238</td>\n",
              "      <td>0.351996</td>\n",
              "      <td>0.102323</td>\n",
              "      <td>0.650453</td>\n",
              "      <td>0.087484</td>\n",
              "    </tr>\n",
              "    <tr>\n",
              "      <th>std</th>\n",
              "      <td>66.286331</td>\n",
              "      <td>25.057121</td>\n",
              "      <td>2.683173</td>\n",
              "      <td>0.318738</td>\n",
              "      <td>0.477598</td>\n",
              "      <td>0.303076</td>\n",
              "      <td>0.476833</td>\n",
              "      <td>0.282546</td>\n",
              "    </tr>\n",
              "    <tr>\n",
              "      <th>min</th>\n",
              "      <td>0.021322</td>\n",
              "      <td>0.000705</td>\n",
              "      <td>0.011373</td>\n",
              "      <td>0.000000</td>\n",
              "      <td>0.000000</td>\n",
              "      <td>0.000000</td>\n",
              "      <td>0.000000</td>\n",
              "      <td>0.000000</td>\n",
              "    </tr>\n",
              "    <tr>\n",
              "      <th>25%</th>\n",
              "      <td>3.907375</td>\n",
              "      <td>0.299326</td>\n",
              "      <td>0.475117</td>\n",
              "      <td>1.000000</td>\n",
              "      <td>0.000000</td>\n",
              "      <td>0.000000</td>\n",
              "      <td>0.000000</td>\n",
              "      <td>0.000000</td>\n",
              "    </tr>\n",
              "    <tr>\n",
              "      <th>50%</th>\n",
              "      <td>10.038226</td>\n",
              "      <td>1.008806</td>\n",
              "      <td>0.995767</td>\n",
              "      <td>1.000000</td>\n",
              "      <td>0.000000</td>\n",
              "      <td>0.000000</td>\n",
              "      <td>1.000000</td>\n",
              "      <td>0.000000</td>\n",
              "    </tr>\n",
              "    <tr>\n",
              "      <th>75%</th>\n",
              "      <td>25.940708</td>\n",
              "      <td>3.399941</td>\n",
              "      <td>2.076656</td>\n",
              "      <td>1.000000</td>\n",
              "      <td>1.000000</td>\n",
              "      <td>0.000000</td>\n",
              "      <td>1.000000</td>\n",
              "      <td>0.000000</td>\n",
              "    </tr>\n",
              "    <tr>\n",
              "      <th>max</th>\n",
              "      <td>4601.011222</td>\n",
              "      <td>1872.446884</td>\n",
              "      <td>65.150879</td>\n",
              "      <td>1.000000</td>\n",
              "      <td>1.000000</td>\n",
              "      <td>1.000000</td>\n",
              "      <td>1.000000</td>\n",
              "      <td>1.000000</td>\n",
              "    </tr>\n",
              "  </tbody>\n",
              "</table>\n",
              "</div>\n",
              "      <button class=\"colab-df-convert\" onclick=\"convertToInteractive('df-2bb60679-d37a-40dc-8141-830066785618')\"\n",
              "              title=\"Convert this dataframe to an interactive table.\"\n",
              "              style=\"display:none;\">\n",
              "        \n",
              "  <svg xmlns=\"http://www.w3.org/2000/svg\" height=\"24px\"viewBox=\"0 0 24 24\"\n",
              "       width=\"24px\">\n",
              "    <path d=\"M0 0h24v24H0V0z\" fill=\"none\"/>\n",
              "    <path d=\"M18.56 5.44l.94 2.06.94-2.06 2.06-.94-2.06-.94-.94-2.06-.94 2.06-2.06.94zm-11 1L8.5 8.5l.94-2.06 2.06-.94-2.06-.94L8.5 2.5l-.94 2.06-2.06.94zm10 10l.94 2.06.94-2.06 2.06-.94-2.06-.94-.94-2.06-.94 2.06-2.06.94z\"/><path d=\"M17.41 7.96l-1.37-1.37c-.4-.4-.92-.59-1.43-.59-.52 0-1.04.2-1.43.59L10.3 9.45l-7.72 7.72c-.78.78-.78 2.05 0 2.83L4 21.41c.39.39.9.59 1.41.59.51 0 1.02-.2 1.41-.59l7.78-7.78 2.81-2.81c.8-.78.8-2.07 0-2.86zM5.41 20L4 18.59l7.72-7.72 1.47 1.35L5.41 20z\"/>\n",
              "  </svg>\n",
              "      </button>\n",
              "      \n",
              "  <style>\n",
              "    .colab-df-container {\n",
              "      display:flex;\n",
              "      flex-wrap:wrap;\n",
              "      gap: 12px;\n",
              "    }\n",
              "\n",
              "    .colab-df-convert {\n",
              "      background-color: #E8F0FE;\n",
              "      border: none;\n",
              "      border-radius: 50%;\n",
              "      cursor: pointer;\n",
              "      display: none;\n",
              "      fill: #1967D2;\n",
              "      height: 32px;\n",
              "      padding: 0 0 0 0;\n",
              "      width: 32px;\n",
              "    }\n",
              "\n",
              "    .colab-df-convert:hover {\n",
              "      background-color: #E2EBFA;\n",
              "      box-shadow: 0px 1px 2px rgba(60, 64, 67, 0.3), 0px 1px 3px 1px rgba(60, 64, 67, 0.15);\n",
              "      fill: #174EA6;\n",
              "    }\n",
              "\n",
              "    [theme=dark] .colab-df-convert {\n",
              "      background-color: #3B4455;\n",
              "      fill: #D2E3FC;\n",
              "    }\n",
              "\n",
              "    [theme=dark] .colab-df-convert:hover {\n",
              "      background-color: #434B5C;\n",
              "      box-shadow: 0px 1px 3px 1px rgba(0, 0, 0, 0.15);\n",
              "      filter: drop-shadow(0px 1px 2px rgba(0, 0, 0, 0.3));\n",
              "      fill: #FFFFFF;\n",
              "    }\n",
              "  </style>\n",
              "\n",
              "      <script>\n",
              "        const buttonEl =\n",
              "          document.querySelector('#df-2bb60679-d37a-40dc-8141-830066785618 button.colab-df-convert');\n",
              "        buttonEl.style.display =\n",
              "          google.colab.kernel.accessAllowed ? 'block' : 'none';\n",
              "\n",
              "        async function convertToInteractive(key) {\n",
              "          const element = document.querySelector('#df-2bb60679-d37a-40dc-8141-830066785618');\n",
              "          const dataTable =\n",
              "            await google.colab.kernel.invokeFunction('convertToInteractive',\n",
              "                                                     [key], {});\n",
              "          if (!dataTable) return;\n",
              "\n",
              "          const docLinkHtml = 'Like what you see? Visit the ' +\n",
              "            '<a target=\"_blank\" href=https://colab.research.google.com/notebooks/data_table.ipynb>data table notebook</a>'\n",
              "            + ' to learn more about interactive tables.';\n",
              "          element.innerHTML = '';\n",
              "          dataTable['output_type'] = 'display_data';\n",
              "          await google.colab.output.renderOutput(dataTable, element);\n",
              "          const docLink = document.createElement('div');\n",
              "          docLink.innerHTML = docLinkHtml;\n",
              "          element.appendChild(docLink);\n",
              "        }\n",
              "      </script>\n",
              "    </div>\n",
              "  </div>\n",
              "  "
            ]
          },
          "metadata": {},
          "execution_count": 41
        }
      ],
      "source": [
        "# Lendo o dataset a partir do arquivo .csv\n",
        "dataset = pd.read_csv('card_transdata.csv')\n",
        "\n",
        "# Removendo dados iguais a null\n",
        "dataset = dataset.dropna()\n",
        "dataset = dataset.reset_index(drop=True)\n",
        "\n",
        "# Descrição do dataset\n",
        "dataset.describe()"
      ]
    },
    {
      "cell_type": "code",
      "execution_count": 42,
      "metadata": {
        "id": "0WXG3der-lJo",
        "colab": {
          "base_uri": "https://localhost:8080/",
          "height": 488
        },
        "outputId": "a2a68305-a86e-4352-8e16-8dc4d66df370"
      },
      "outputs": [
        {
          "output_type": "execute_result",
          "data": {
            "text/plain": [
              "       distance_from_home  distance_from_last_transaction  \\\n",
              "0               57.877857                        0.311140   \n",
              "1               10.829943                        0.175592   \n",
              "2                5.091079                        0.805153   \n",
              "3                2.247564                        5.600044   \n",
              "4               44.190936                        0.566486   \n",
              "...                   ...                             ...   \n",
              "41237            3.220594                        3.687526   \n",
              "41238           19.837844                        4.508499   \n",
              "41239           36.039140                        4.455109   \n",
              "41240           13.191169                        0.247942   \n",
              "41241          145.179521                        5.203671   \n",
              "\n",
              "       ratio_to_median_purchase_price  repeat_retailer  used_chip  \\\n",
              "0                            1.945940              1.0        1.0   \n",
              "1                            1.294219              1.0        0.0   \n",
              "2                            0.427715              1.0        0.0   \n",
              "3                            0.362663              1.0        1.0   \n",
              "4                            2.222767              1.0        1.0   \n",
              "...                               ...              ...        ...   \n",
              "41237                        0.493897              1.0        0.0   \n",
              "41238                        0.617235              1.0        1.0   \n",
              "41239                        0.366383              1.0        1.0   \n",
              "41240                        2.380462              1.0        0.0   \n",
              "41241                        0.366487              1.0        0.0   \n",
              "\n",
              "       used_pin_number  online_order  fraud  \n",
              "0                  0.0           0.0    0.0  \n",
              "1                  0.0           0.0    0.0  \n",
              "2                  0.0           1.0    0.0  \n",
              "3                  0.0           1.0    0.0  \n",
              "4                  0.0           1.0    0.0  \n",
              "...                ...           ...    ...  \n",
              "41237              1.0           1.0    0.0  \n",
              "41238              0.0           1.0    0.0  \n",
              "41239              0.0           1.0    0.0  \n",
              "41240              1.0           0.0    0.0  \n",
              "41241              0.0           1.0    1.0  \n",
              "\n",
              "[41242 rows x 8 columns]"
            ],
            "text/html": [
              "\n",
              "  <div id=\"df-ef07b841-480f-4d02-95bb-29db47ccaf66\">\n",
              "    <div class=\"colab-df-container\">\n",
              "      <div>\n",
              "<style scoped>\n",
              "    .dataframe tbody tr th:only-of-type {\n",
              "        vertical-align: middle;\n",
              "    }\n",
              "\n",
              "    .dataframe tbody tr th {\n",
              "        vertical-align: top;\n",
              "    }\n",
              "\n",
              "    .dataframe thead th {\n",
              "        text-align: right;\n",
              "    }\n",
              "</style>\n",
              "<table border=\"1\" class=\"dataframe\">\n",
              "  <thead>\n",
              "    <tr style=\"text-align: right;\">\n",
              "      <th></th>\n",
              "      <th>distance_from_home</th>\n",
              "      <th>distance_from_last_transaction</th>\n",
              "      <th>ratio_to_median_purchase_price</th>\n",
              "      <th>repeat_retailer</th>\n",
              "      <th>used_chip</th>\n",
              "      <th>used_pin_number</th>\n",
              "      <th>online_order</th>\n",
              "      <th>fraud</th>\n",
              "    </tr>\n",
              "  </thead>\n",
              "  <tbody>\n",
              "    <tr>\n",
              "      <th>0</th>\n",
              "      <td>57.877857</td>\n",
              "      <td>0.311140</td>\n",
              "      <td>1.945940</td>\n",
              "      <td>1.0</td>\n",
              "      <td>1.0</td>\n",
              "      <td>0.0</td>\n",
              "      <td>0.0</td>\n",
              "      <td>0.0</td>\n",
              "    </tr>\n",
              "    <tr>\n",
              "      <th>1</th>\n",
              "      <td>10.829943</td>\n",
              "      <td>0.175592</td>\n",
              "      <td>1.294219</td>\n",
              "      <td>1.0</td>\n",
              "      <td>0.0</td>\n",
              "      <td>0.0</td>\n",
              "      <td>0.0</td>\n",
              "      <td>0.0</td>\n",
              "    </tr>\n",
              "    <tr>\n",
              "      <th>2</th>\n",
              "      <td>5.091079</td>\n",
              "      <td>0.805153</td>\n",
              "      <td>0.427715</td>\n",
              "      <td>1.0</td>\n",
              "      <td>0.0</td>\n",
              "      <td>0.0</td>\n",
              "      <td>1.0</td>\n",
              "      <td>0.0</td>\n",
              "    </tr>\n",
              "    <tr>\n",
              "      <th>3</th>\n",
              "      <td>2.247564</td>\n",
              "      <td>5.600044</td>\n",
              "      <td>0.362663</td>\n",
              "      <td>1.0</td>\n",
              "      <td>1.0</td>\n",
              "      <td>0.0</td>\n",
              "      <td>1.0</td>\n",
              "      <td>0.0</td>\n",
              "    </tr>\n",
              "    <tr>\n",
              "      <th>4</th>\n",
              "      <td>44.190936</td>\n",
              "      <td>0.566486</td>\n",
              "      <td>2.222767</td>\n",
              "      <td>1.0</td>\n",
              "      <td>1.0</td>\n",
              "      <td>0.0</td>\n",
              "      <td>1.0</td>\n",
              "      <td>0.0</td>\n",
              "    </tr>\n",
              "    <tr>\n",
              "      <th>...</th>\n",
              "      <td>...</td>\n",
              "      <td>...</td>\n",
              "      <td>...</td>\n",
              "      <td>...</td>\n",
              "      <td>...</td>\n",
              "      <td>...</td>\n",
              "      <td>...</td>\n",
              "      <td>...</td>\n",
              "    </tr>\n",
              "    <tr>\n",
              "      <th>41237</th>\n",
              "      <td>3.220594</td>\n",
              "      <td>3.687526</td>\n",
              "      <td>0.493897</td>\n",
              "      <td>1.0</td>\n",
              "      <td>0.0</td>\n",
              "      <td>1.0</td>\n",
              "      <td>1.0</td>\n",
              "      <td>0.0</td>\n",
              "    </tr>\n",
              "    <tr>\n",
              "      <th>41238</th>\n",
              "      <td>19.837844</td>\n",
              "      <td>4.508499</td>\n",
              "      <td>0.617235</td>\n",
              "      <td>1.0</td>\n",
              "      <td>1.0</td>\n",
              "      <td>0.0</td>\n",
              "      <td>1.0</td>\n",
              "      <td>0.0</td>\n",
              "    </tr>\n",
              "    <tr>\n",
              "      <th>41239</th>\n",
              "      <td>36.039140</td>\n",
              "      <td>4.455109</td>\n",
              "      <td>0.366383</td>\n",
              "      <td>1.0</td>\n",
              "      <td>1.0</td>\n",
              "      <td>0.0</td>\n",
              "      <td>1.0</td>\n",
              "      <td>0.0</td>\n",
              "    </tr>\n",
              "    <tr>\n",
              "      <th>41240</th>\n",
              "      <td>13.191169</td>\n",
              "      <td>0.247942</td>\n",
              "      <td>2.380462</td>\n",
              "      <td>1.0</td>\n",
              "      <td>0.0</td>\n",
              "      <td>1.0</td>\n",
              "      <td>0.0</td>\n",
              "      <td>0.0</td>\n",
              "    </tr>\n",
              "    <tr>\n",
              "      <th>41241</th>\n",
              "      <td>145.179521</td>\n",
              "      <td>5.203671</td>\n",
              "      <td>0.366487</td>\n",
              "      <td>1.0</td>\n",
              "      <td>0.0</td>\n",
              "      <td>0.0</td>\n",
              "      <td>1.0</td>\n",
              "      <td>1.0</td>\n",
              "    </tr>\n",
              "  </tbody>\n",
              "</table>\n",
              "<p>41242 rows × 8 columns</p>\n",
              "</div>\n",
              "      <button class=\"colab-df-convert\" onclick=\"convertToInteractive('df-ef07b841-480f-4d02-95bb-29db47ccaf66')\"\n",
              "              title=\"Convert this dataframe to an interactive table.\"\n",
              "              style=\"display:none;\">\n",
              "        \n",
              "  <svg xmlns=\"http://www.w3.org/2000/svg\" height=\"24px\"viewBox=\"0 0 24 24\"\n",
              "       width=\"24px\">\n",
              "    <path d=\"M0 0h24v24H0V0z\" fill=\"none\"/>\n",
              "    <path d=\"M18.56 5.44l.94 2.06.94-2.06 2.06-.94-2.06-.94-.94-2.06-.94 2.06-2.06.94zm-11 1L8.5 8.5l.94-2.06 2.06-.94-2.06-.94L8.5 2.5l-.94 2.06-2.06.94zm10 10l.94 2.06.94-2.06 2.06-.94-2.06-.94-.94-2.06-.94 2.06-2.06.94z\"/><path d=\"M17.41 7.96l-1.37-1.37c-.4-.4-.92-.59-1.43-.59-.52 0-1.04.2-1.43.59L10.3 9.45l-7.72 7.72c-.78.78-.78 2.05 0 2.83L4 21.41c.39.39.9.59 1.41.59.51 0 1.02-.2 1.41-.59l7.78-7.78 2.81-2.81c.8-.78.8-2.07 0-2.86zM5.41 20L4 18.59l7.72-7.72 1.47 1.35L5.41 20z\"/>\n",
              "  </svg>\n",
              "      </button>\n",
              "      \n",
              "  <style>\n",
              "    .colab-df-container {\n",
              "      display:flex;\n",
              "      flex-wrap:wrap;\n",
              "      gap: 12px;\n",
              "    }\n",
              "\n",
              "    .colab-df-convert {\n",
              "      background-color: #E8F0FE;\n",
              "      border: none;\n",
              "      border-radius: 50%;\n",
              "      cursor: pointer;\n",
              "      display: none;\n",
              "      fill: #1967D2;\n",
              "      height: 32px;\n",
              "      padding: 0 0 0 0;\n",
              "      width: 32px;\n",
              "    }\n",
              "\n",
              "    .colab-df-convert:hover {\n",
              "      background-color: #E2EBFA;\n",
              "      box-shadow: 0px 1px 2px rgba(60, 64, 67, 0.3), 0px 1px 3px 1px rgba(60, 64, 67, 0.15);\n",
              "      fill: #174EA6;\n",
              "    }\n",
              "\n",
              "    [theme=dark] .colab-df-convert {\n",
              "      background-color: #3B4455;\n",
              "      fill: #D2E3FC;\n",
              "    }\n",
              "\n",
              "    [theme=dark] .colab-df-convert:hover {\n",
              "      background-color: #434B5C;\n",
              "      box-shadow: 0px 1px 3px 1px rgba(0, 0, 0, 0.15);\n",
              "      filter: drop-shadow(0px 1px 2px rgba(0, 0, 0, 0.3));\n",
              "      fill: #FFFFFF;\n",
              "    }\n",
              "  </style>\n",
              "\n",
              "      <script>\n",
              "        const buttonEl =\n",
              "          document.querySelector('#df-ef07b841-480f-4d02-95bb-29db47ccaf66 button.colab-df-convert');\n",
              "        buttonEl.style.display =\n",
              "          google.colab.kernel.accessAllowed ? 'block' : 'none';\n",
              "\n",
              "        async function convertToInteractive(key) {\n",
              "          const element = document.querySelector('#df-ef07b841-480f-4d02-95bb-29db47ccaf66');\n",
              "          const dataTable =\n",
              "            await google.colab.kernel.invokeFunction('convertToInteractive',\n",
              "                                                     [key], {});\n",
              "          if (!dataTable) return;\n",
              "\n",
              "          const docLinkHtml = 'Like what you see? Visit the ' +\n",
              "            '<a target=\"_blank\" href=https://colab.research.google.com/notebooks/data_table.ipynb>data table notebook</a>'\n",
              "            + ' to learn more about interactive tables.';\n",
              "          element.innerHTML = '';\n",
              "          dataTable['output_type'] = 'display_data';\n",
              "          await google.colab.output.renderOutput(dataTable, element);\n",
              "          const docLink = document.createElement('div');\n",
              "          docLink.innerHTML = docLinkHtml;\n",
              "          element.appendChild(docLink);\n",
              "        }\n",
              "      </script>\n",
              "    </div>\n",
              "  </div>\n",
              "  "
            ]
          },
          "metadata": {},
          "execution_count": 42
        }
      ],
      "source": [
        "dataset"
      ]
    },
    {
      "cell_type": "markdown",
      "metadata": {
        "id": "_2m-NKFrjm1A"
      },
      "source": [
        "## Análise exploratória do dataset"
      ]
    },
    {
      "cell_type": "code",
      "execution_count": 43,
      "metadata": {
        "id": "WTWaQ4CNjP9_",
        "colab": {
          "base_uri": "https://localhost:8080/",
          "height": 422
        },
        "outputId": "b112f377-b85a-480a-cfb4-3022431b9367"
      },
      "outputs": [
        {
          "output_type": "stream",
          "name": "stdout",
          "text": [
            "Quantidade de labels fraude: 3608\n",
            "Quantidade de labels não-fraude: 37634\n",
            "Porcentagem de labels fraude: {dataset.groupby(\"fraud\").fraud.count().transform(lambda x: (x/x.sum())*100)}\n"
          ]
        },
        {
          "output_type": "display_data",
          "data": {
            "text/plain": [
              "<Figure size 576x396 with 1 Axes>"
            ],
            "image/png": "[encoded data removed]"
          },
          "metadata": {}
        }
      ],
      "source": [
        "# Balanceamento da base \n",
        "\n",
        "# Quantidade de dados com fraude\n",
        "print(f'Quantidade de labels fraude: {dataset[dataset[\"fraud\"] == 1].fraud.count()}')\n",
        "print(f'Quantidade de labels não-fraude: {dataset[dataset[\"fraud\"] == 0].fraud.count()}')\n",
        "\n",
        "# mostrando a PORCENTAGEM de dados com fraude e não-fraude:\n",
        "#print(f'Porcentagem de labels: {dataset.groupby(\"fraud\").fraud.count().transform(lambda x: (x/x.sum())*100)}')\n",
        "print('Porcentagem de labels fraude: {dataset.groupby(\"fraud\").fraud.count().transform(lambda x: (x/x.sum())*100)}')\n",
        "\n",
        "resumo = dataset.groupby(['fraud'])['online_order'].count().transform(lambda x: (x/x.sum())*100).sort_values().rename('Porcetagem').reset_index()\n",
        "resumo['fraud'] = resumo['fraud'].replace({1.0 : \"Fraude\", 0.0: \"Não-fraude\"})\n",
        "\n",
        "sns.set(style=\"darkgrid\")\n",
        "sns.barplot(x='fraud',y='Porcetagem',data=resumo, palette=['red','green']);"
      ]
    },
    {
      "cell_type": "code",
      "source": [
        "sns.countplot(x = dataset[\"fraud\"]);"
      ],
      "metadata": {
        "colab": {
          "base_uri": "https://localhost:8080/",
          "height": 370
        },
        "id": "LVvn2ej6Qd_p",
        "outputId": "2738a3b6-b656-47ae-b0e4-e84c787c931b"
      },
      "execution_count": 44,
      "outputs": [
        {
          "output_type": "display_data",
          "data": {
            "text/plain": [
              "<Figure size 576x396 with 1 Axes>"
            ],
            "image/png": "[encoded data removed]"
          },
          "metadata": {}
        }
      ]
    },
    {
      "cell_type": "markdown",
      "source": [
        "# Balanceamento do dataset usando SubAmostragem "
      ],
      "metadata": {
        "id": "9ziOSfG_OU8F"
      }
    },
    {
      "cell_type": "code",
      "source": [
        "X_caracteristicas_original = dataset.iloc[:,0:7]\n",
        "Y_classes_original = dataset.iloc[:,7]\n",
        "\n",
        "tl = TomekLinks(sampling_strategy='all') #auto é o mesmo que \"not minority\"\n",
        "X_caracteristicas, Y_classes = tl.fit_resample(X_caracteristicas_original, Y_classes_original) \n",
        "\n",
        "X_caracteristicas.shape, Y_classes.shape"
      ],
      "metadata": {
        "colab": {
          "base_uri": "https://localhost:8080/"
        },
        "id": "jHpvhao3OeNN",
        "outputId": "4d691208-0db7-40de-f01e-b710d4b603d2"
      },
      "execution_count": 45,
      "outputs": [
        {
          "output_type": "execute_result",
          "data": {
            "text/plain": [
              "((40907, 7), (40907,))"
            ]
          },
          "metadata": {},
          "execution_count": 45
        }
      ]
    },
    {
      "cell_type": "code",
      "source": [
        "np.unique(Y_classes_original, return_counts=True)"
      ],
      "metadata": {
        "colab": {
          "base_uri": "https://localhost:8080/"
        },
        "id": "h3go2uP2RaZ0",
        "outputId": "e2bfbb74-ae65-4d27-bb2f-cbffc2589e97"
      },
      "execution_count": 60,
      "outputs": [
        {
          "output_type": "execute_result",
          "data": {
            "text/plain": [
              "(array([0., 1.]), array([37634,  3608]))"
            ]
          },
          "metadata": {},
          "execution_count": 60
        }
      ]
    },
    {
      "cell_type": "code",
      "source": [
        "np.unique(Y_classes, return_counts=True)"
      ],
      "metadata": {
        "colab": {
          "base_uri": "https://localhost:8080/"
        },
        "id": "rcwoejHpREhd",
        "outputId": "9f3416a4-a361-4131-ccbd-d616e5c82de7"
      },
      "execution_count": 46,
      "outputs": [
        {
          "output_type": "execute_result",
          "data": {
            "text/plain": [
              "(array([0., 1.]), array([37299,  3608]))"
            ]
          },
          "metadata": {},
          "execution_count": 46
        }
      ]
    },
    {
      "cell_type": "markdown",
      "metadata": {
        "id": "UfOTMvWViHDm"
      },
      "source": [
        "## Separação dos dados para treino e teste"
      ]
    },
    {
      "cell_type": "markdown",
      "metadata": {
        "id": "nrHx-aM7k9Tt"
      },
      "source": [
        "Nesse caso, iremos utilizar 70% dos dados para treinamento e 30% para teste"
      ]
    },
    {
      "cell_type": "code",
      "execution_count": 47,
      "metadata": {
        "id": "Fz_FGYbDeebf"
      },
      "outputs": [],
      "source": [
        "# Extraindo do dataset as características (features) e o rótulo de cada linha (fraude = 1 e não-fraude = 0)\n",
        "# X_caracteristicas = dataset.iloc[:,0:7]\n",
        "# Y_classes = dataset.iloc[:,7]\n",
        "\n",
        "# Split do dataset em treino (70%) e teste (30%) \n",
        "X_train, X_test, Y_train, Y_test = train_test_split(X_caracteristicas, Y_classes, test_size=0.3, random_state=0)\n",
        "\n",
        "#pre-processamento\n",
        "std_scaler = StandardScaler().fit(X_train)\n",
        "X_train = std_scaler.transform(X_train)\n",
        "X_test  = std_scaler.transform(X_test)\n"
      ]
    },
    {
      "cell_type": "markdown",
      "metadata": {
        "id": "DDk52Fol4LcX"
      },
      "source": [
        "# Aplicação dos modelos de aprendizado supervisionado\n",
        "De forma a avaliar diferentes modelos de aprendizado supervisionado, serão testados modelos com os seguintes algoritmos: random forest, naive bayes, SVM e regressão. Os valores de acurácia serão comparados no fim para definir qual a melhor abordagem para esse problema."
      ]
    },
    {
      "cell_type": "markdown",
      "metadata": {
        "id": "DHX6Oew_KFuJ"
      },
      "source": [
        "## Random Forest\n"
      ]
    },
    {
      "cell_type": "markdown",
      "metadata": {
        "id": "HBy00RpGOal5"
      },
      "source": [
        "Treinamento do modelo"
      ]
    },
    {
      "cell_type": "code",
      "execution_count": 48,
      "metadata": {
        "id": "D3Mopk87ihSA"
      },
      "outputs": [],
      "source": [
        "random_forest_model = RandomForestClassifier(random_state = 500)\n",
        "\n",
        "random_forest_model.fit(X_train, Y_train)\n",
        "\n",
        "y_pred_random_forest = random_forest_model.predict(X_test)"
      ]
    },
    {
      "cell_type": "markdown",
      "metadata": {
        "id": "mi5uO8Me34qH"
      },
      "source": [
        "Avaliação do modelo"
      ]
    },
    {
      "cell_type": "code",
      "execution_count": 49,
      "metadata": {
        "id": "W6Wug6jw37IW",
        "colab": {
          "base_uri": "https://localhost:8080/"
        },
        "outputId": "0b480705-b330-484b-ce14-7cf50bb129ea"
      },
      "outputs": [
        {
          "output_type": "stream",
          "name": "stdout",
          "text": [
            "Acurácia :  0.999348162633423 Precisão :  0.999348162633423 Recall :  0.999348162633423 f1-score :  0.999348162633423\n"
          ]
        }
      ],
      "source": [
        "# Acurácia\n",
        "accuracy_rf = accuracy_score(Y_test, y_pred_random_forest)\n",
        "\n",
        "# Precisão\n",
        "precision_rf = precision_score(Y_test, y_pred_random_forest, average='micro')\n",
        "\n",
        "# Recall\n",
        "recall_rf  = recall_score(Y_test, y_pred_random_forest, average='micro')\n",
        "\n",
        "# f1-score\n",
        "f1_rf = f1_score(Y_test, y_pred_random_forest, average='micro')\n",
        "\n",
        "print(\"Acurácia : \", accuracy_rf, \"Precisão : \",precision_rf, \"Recall : \", recall_rf, \"f1-score : \",f1_rf)"
      ]
    },
    {
      "cell_type": "markdown",
      "metadata": {
        "id": "JoKUC0GNOhGo"
      },
      "source": [
        "## Nayve-Bayes "
      ]
    },
    {
      "cell_type": "markdown",
      "metadata": {
        "id": "-XJsma3R5h8g"
      },
      "source": [
        "Treinamento do modelo"
      ]
    },
    {
      "cell_type": "code",
      "execution_count": 50,
      "metadata": {
        "id": "Nl71C8OvdrSw"
      },
      "outputs": [],
      "source": [
        "classifier = GaussianNB() \n",
        "\n",
        "# Treinando o classificador Gaussian Naive Bayes:\n",
        "\n",
        "classifier.fit(X_train, Y_train)\n",
        "\n",
        "y_pred_naive_bayes =  classifier.predict(X_test)"
      ]
    },
    {
      "cell_type": "markdown",
      "metadata": {
        "id": "06q3Feat5h8j"
      },
      "source": [
        "Avaliação do modelo"
      ]
    },
    {
      "cell_type": "code",
      "execution_count": 51,
      "metadata": {
        "id": "EcmTj7YbIuOP",
        "colab": {
          "base_uri": "https://localhost:8080/"
        },
        "outputId": "db1b6371-0a1a-4c78-bc60-9db422a01b63"
      },
      "outputs": [
        {
          "output_type": "stream",
          "name": "stdout",
          "text": [
            "Acurácia :  0.9502974007985008 Precisão :  0.9502974007985008 Recall :  0.9502974007985008 f1-score :  0.9502974007985008\n"
          ]
        }
      ],
      "source": [
        "# Acurácia\n",
        "accuracy_nb = accuracy_score(Y_test, y_pred_naive_bayes)\n",
        "\n",
        "# Precisão\n",
        "precision_nb = precision_score(Y_test, y_pred_naive_bayes, average='micro')\n",
        "\n",
        "# Recall\n",
        "recall_nb  = recall_score(Y_test, y_pred_naive_bayes, average='micro')\n",
        "\n",
        "# f1-score\n",
        "f1_nb = f1_score(Y_test, y_pred_naive_bayes, average='micro')\n",
        "\n",
        "print(\"Acurácia : \", accuracy_nb, \"Precisão : \",precision_nb, \"Recall : \", recall_nb, \"f1-score : \",f1_nb)"
      ]
    },
    {
      "cell_type": "markdown",
      "metadata": {
        "id": "LDRFBQCbOlz6"
      },
      "source": [
        "## SVM"
      ]
    },
    {
      "cell_type": "markdown",
      "metadata": {
        "id": "NeYT0ASr5jSQ"
      },
      "source": [
        "Treinamento do modelo"
      ]
    },
    {
      "cell_type": "code",
      "execution_count": 52,
      "metadata": {
        "id": "MRyQhUyDEtJt"
      },
      "outputs": [],
      "source": [
        "svm = SVC(kernel='rbf', random_state=1, C = 2.0) \n",
        "\n",
        "svm.fit(X_train, Y_train)\n",
        "\n",
        "y_pred_svm = svm.predict(X_test)"
      ]
    },
    {
      "cell_type": "markdown",
      "metadata": {
        "id": "dD-eP2yo5jSQ"
      },
      "source": [
        "Avaliação do modelo"
      ]
    },
    {
      "cell_type": "code",
      "execution_count": 53,
      "metadata": {
        "id": "9hhFiw87GisS",
        "colab": {
          "base_uri": "https://localhost:8080/"
        },
        "outputId": "bb2d3b02-6ebb-4494-bd85-596d3fd6f059"
      },
      "outputs": [
        {
          "output_type": "stream",
          "name": "stdout",
          "text": [
            "Acurácia :  0.994948260409028 Precisão :  0.994948260409028 Recall :  0.994948260409028 f1-score :  0.994948260409028\n"
          ]
        }
      ],
      "source": [
        "# Acurácia\n",
        "accuracy_svm = accuracy_score(Y_test, y_pred_svm)\n",
        "\n",
        "# Precisão\n",
        "precision_svm = precision_score(Y_test, y_pred_svm, average='micro')\n",
        "\n",
        "# Recall\n",
        "recall_svm  = recall_score(Y_test, y_pred_svm, average='micro')\n",
        "\n",
        "# f1-score\n",
        "f1_svm = f1_score(Y_test, y_pred_svm, average='micro')\n",
        "\n",
        "print(\"Acurácia : \", accuracy_svm, \"Precisão : \", precision_svm, \"Recall : \", recall_svm, \"f1-score : \",f1_svm)"
      ]
    },
    {
      "cell_type": "code",
      "execution_count": 54,
      "metadata": {
        "id": "VmUaKSJ1FXl0",
        "colab": {
          "base_uri": "https://localhost:8080/",
          "height": 379
        },
        "outputId": "ab41fc83-bde2-457b-a146-9963cef3335e"
      },
      "outputs": [
        {
          "output_type": "execute_result",
          "data": {
            "text/plain": [
              "0.994948260409028"
            ]
          },
          "metadata": {},
          "execution_count": 54
        },
        {
          "output_type": "display_data",
          "data": {
            "text/plain": [
              "<Figure size 576x396 with 1 Axes>"
            ],
            "image/png": "[encoded data removed]"
          },
          "metadata": {}
        }
      ],
      "source": [
        "# Work in progress!\n",
        "from yellowbrick.classifier import ConfusionMatrix\n",
        "\n",
        "cm = ConfusionMatrix(svm)\n",
        "cm.fit(X_train, Y_train)\n",
        "cm.score(X_test, Y_test)"
      ]
    },
    {
      "cell_type": "markdown",
      "source": [
        "# Regressão Logística"
      ],
      "metadata": {
        "id": "UWBH8fCU8qSt"
      }
    },
    {
      "cell_type": "markdown",
      "metadata": {
        "id": "URlPBJdsnEZC"
      },
      "source": [
        "Treinamento do modelo"
      ]
    },
    {
      "cell_type": "code",
      "source": [
        "regl = LogisticRegression(max_iter=1000, random_state=42)\n",
        "\n",
        "regl.fit(X_train, Y_train)\n",
        "\n",
        "y_pred_regressao = regl.predict(X_test)"
      ],
      "metadata": {
        "id": "cgm-LWId8wST"
      },
      "execution_count": 55,
      "outputs": []
    },
    {
      "cell_type": "markdown",
      "metadata": {
        "id": "1tsxclTWnF4a"
      },
      "source": [
        "Avaliação do modelo"
      ]
    },
    {
      "cell_type": "code",
      "source": [
        "# Acurácia\n",
        "accuracy_regl = accuracy_score(Y_test, y_pred_regressao)\n",
        "\n",
        "# Precisão\n",
        "precision_regl = precision_score(Y_test, y_pred_regressao)\n",
        "\n",
        "# Recall\n",
        "recall_regl  = recall_score(Y_test, y_pred_regressao)\n",
        "\n",
        "# f1-score\n",
        "f1_regl = f1_score(Y_test, y_pred_regressao)\n",
        "\n",
        "print(\"Acurácia : \", accuracy_regl, \"Precisão : \",precision_regl, \"Recall : \", recall_regl, \"f1-score : \",f1_regl)"
      ],
      "metadata": {
        "colab": {
          "base_uri": "https://localhost:8080/"
        },
        "id": "-DQ5G4OW8wK0",
        "outputId": "27c66fc2-3bf0-42db-9865-485601b80709"
      },
      "execution_count": 56,
      "outputs": [
        {
          "output_type": "stream",
          "name": "stdout",
          "text": [
            "Acurácia :  0.9600749612971563 Precisão :  0.8756756756756757 Recall :  0.6195028680688337 f1-score :  0.7256438969764838\n"
          ]
        }
      ]
    },
    {
      "cell_type": "markdown",
      "metadata": {
        "id": "EEhVjkCJ5MQA"
      },
      "source": [
        "# Avaliação dos modelos"
      ]
    },
    {
      "cell_type": "code",
      "source": [
        "# Work in progress!"
      ],
      "metadata": {
        "id": "5avaRrbV0T9q"
      },
      "execution_count": 57,
      "outputs": []
    },
    {
      "cell_type": "markdown",
      "metadata": {
        "id": "4CtL_Tc1z_JT"
      },
      "source": [
        "### Resumo dos resultados"
      ]
    },
    {
      "cell_type": "code",
      "execution_count": 58,
      "metadata": {
        "id": "WT8ajsauzqgd",
        "colab": {
          "base_uri": "https://localhost:8080/",
          "height": 175
        },
        "outputId": "ca02123e-5cd2-4d95-a30c-281e46748f6d"
      },
      "outputs": [
        {
          "output_type": "execute_result",
          "data": {
            "text/plain": [
              "          Random Forest  Nayve-Bayes       SVM  Regressão\n",
              "Acurácia       0.999348     0.950297  0.994948   0.960075\n",
              "Precisão       0.999348     0.950297  0.994948   0.875676\n",
              "Recall         0.999348     0.950297  0.994948   0.619503\n",
              "f1-score       0.999348     0.950297  0.994948   0.725644"
            ],
            "text/html": [
              "\n",
              "  <div id=\"df-8bf673fa-ec78-4b28-84ad-855cab3b48aa\">\n",
              "    <div class=\"colab-df-container\">\n",
              "      <div>\n",
              "<style scoped>\n",
              "    .dataframe tbody tr th:only-of-type {\n",
              "        vertical-align: middle;\n",
              "    }\n",
              "\n",
              "    .dataframe tbody tr th {\n",
              "        vertical-align: top;\n",
              "    }\n",
              "\n",
              "    .dataframe thead th {\n",
              "        text-align: right;\n",
              "    }\n",
              "</style>\n",
              "<table border=\"1\" class=\"dataframe\">\n",
              "  <thead>\n",
              "    <tr style=\"text-align: right;\">\n",
              "      <th></th>\n",
              "      <th>Random Forest</th>\n",
              "      <th>Nayve-Bayes</th>\n",
              "      <th>SVM</th>\n",
              "      <th>Regressão</th>\n",
              "    </tr>\n",
              "  </thead>\n",
              "  <tbody>\n",
              "    <tr>\n",
              "      <th>Acurácia</th>\n",
              "      <td>0.999348</td>\n",
              "      <td>0.950297</td>\n",
              "      <td>0.994948</td>\n",
              "      <td>0.960075</td>\n",
              "    </tr>\n",
              "    <tr>\n",
              "      <th>Precisão</th>\n",
              "      <td>0.999348</td>\n",
              "      <td>0.950297</td>\n",
              "      <td>0.994948</td>\n",
              "      <td>0.875676</td>\n",
              "    </tr>\n",
              "    <tr>\n",
              "      <th>Recall</th>\n",
              "      <td>0.999348</td>\n",
              "      <td>0.950297</td>\n",
              "      <td>0.994948</td>\n",
              "      <td>0.619503</td>\n",
              "    </tr>\n",
              "    <tr>\n",
              "      <th>f1-score</th>\n",
              "      <td>0.999348</td>\n",
              "      <td>0.950297</td>\n",
              "      <td>0.994948</td>\n",
              "      <td>0.725644</td>\n",
              "    </tr>\n",
              "  </tbody>\n",
              "</table>\n",
              "</div>\n",
              "      <button class=\"colab-df-convert\" onclick=\"convertToInteractive('df-8bf673fa-ec78-4b28-84ad-855cab3b48aa')\"\n",
              "              title=\"Convert this dataframe to an interactive table.\"\n",
              "              style=\"display:none;\">\n",
              "        \n",
              "  <svg xmlns=\"http://www.w3.org/2000/svg\" height=\"24px\"viewBox=\"0 0 24 24\"\n",
              "       width=\"24px\">\n",
              "    <path d=\"M0 0h24v24H0V0z\" fill=\"none\"/>\n",
              "    <path d=\"M18.56 5.44l.94 2.06.94-2.06 2.06-.94-2.06-.94-.94-2.06-.94 2.06-2.06.94zm-11 1L8.5 8.5l.94-2.06 2.06-.94-2.06-.94L8.5 2.5l-.94 2.06-2.06.94zm10 10l.94 2.06.94-2.06 2.06-.94-2.06-.94-.94-2.06-.94 2.06-2.06.94z\"/><path d=\"M17.41 7.96l-1.37-1.37c-.4-.4-.92-.59-1.43-.59-.52 0-1.04.2-1.43.59L10.3 9.45l-7.72 7.72c-.78.78-.78 2.05 0 2.83L4 21.41c.39.39.9.59 1.41.59.51 0 1.02-.2 1.41-.59l7.78-7.78 2.81-2.81c.8-.78.8-2.07 0-2.86zM5.41 20L4 18.59l7.72-7.72 1.47 1.35L5.41 20z\"/>\n",
              "  </svg>\n",
              "      </button>\n",
              "      \n",
              "  <style>\n",
              "    .colab-df-container {\n",
              "      display:flex;\n",
              "      flex-wrap:wrap;\n",
              "      gap: 12px;\n",
              "    }\n",
              "\n",
              "    .colab-df-convert {\n",
              "      background-color: #E8F0FE;\n",
              "      border: none;\n",
              "      border-radius: 50%;\n",
              "      cursor: pointer;\n",
              "      display: none;\n",
              "      fill: #1967D2;\n",
              "      height: 32px;\n",
              "      padding: 0 0 0 0;\n",
              "      width: 32px;\n",
              "    }\n",
              "\n",
              "    .colab-df-convert:hover {\n",
              "      background-color: #E2EBFA;\n",
              "      box-shadow: 0px 1px 2px rgba(60, 64, 67, 0.3), 0px 1px 3px 1px rgba(60, 64, 67, 0.15);\n",
              "      fill: #174EA6;\n",
              "    }\n",
              "\n",
              "    [theme=dark] .colab-df-convert {\n",
              "      background-color: #3B4455;\n",
              "      fill: #D2E3FC;\n",
              "    }\n",
              "\n",
              "    [theme=dark] .colab-df-convert:hover {\n",
              "      background-color: #434B5C;\n",
              "      box-shadow: 0px 1px 3px 1px rgba(0, 0, 0, 0.15);\n",
              "      filter: drop-shadow(0px 1px 2px rgba(0, 0, 0, 0.3));\n",
              "      fill: #FFFFFF;\n",
              "    }\n",
              "  </style>\n",
              "\n",
              "      <script>\n",
              "        const buttonEl =\n",
              "          document.querySelector('#df-8bf673fa-ec78-4b28-84ad-855cab3b48aa button.colab-df-convert');\n",
              "        buttonEl.style.display =\n",
              "          google.colab.kernel.accessAllowed ? 'block' : 'none';\n",
              "\n",
              "        async function convertToInteractive(key) {\n",
              "          const element = document.querySelector('#df-8bf673fa-ec78-4b28-84ad-855cab3b48aa');\n",
              "          const dataTable =\n",
              "            await google.colab.kernel.invokeFunction('convertToInteractive',\n",
              "                                                     [key], {});\n",
              "          if (!dataTable) return;\n",
              "\n",
              "          const docLinkHtml = 'Like what you see? Visit the ' +\n",
              "            '<a target=\"_blank\" href=https://colab.research.google.com/notebooks/data_table.ipynb>data table notebook</a>'\n",
              "            + ' to learn more about interactive tables.';\n",
              "          element.innerHTML = '';\n",
              "          dataTable['output_type'] = 'display_data';\n",
              "          await google.colab.output.renderOutput(dataTable, element);\n",
              "          const docLink = document.createElement('div');\n",
              "          docLink.innerHTML = docLinkHtml;\n",
              "          element.appendChild(docLink);\n",
              "        }\n",
              "      </script>\n",
              "    </div>\n",
              "  </div>\n",
              "  "
            ]
          },
          "metadata": {},
          "execution_count": 58
        }
      ],
      "source": [
        "metrics = {\n",
        "  \"Random Forest\": [accuracy_rf, precision_rf, recall_rf, f1_rf],\n",
        "  \"Nayve-Bayes\": [accuracy_nb, precision_nb, recall_nb, f1_nb],\n",
        "  \"SVM\": [accuracy_svm, precision_svm, recall_svm, f1_svm],\n",
        "  \"Regressão\":[accuracy_regl, precision_regl, recall_regl, f1_regl]\n",
        "}\n",
        "\n",
        "df = pd.DataFrame(metrics, index = [\"Acurácia\", \"Precisão\", \"Recall\", \"f1-score\"])\n",
        "\n",
        "df"
      ]
    },
    {
      "cell_type": "markdown",
      "metadata": {
        "id": "rpJYogZd6BHw"
      },
      "source": [
        "# Avaliação dos resultados"
      ]
    },
    {
      "cell_type": "code",
      "execution_count": 59,
      "metadata": {
        "id": "41kW9w5P6Dfx"
      },
      "outputs": [],
      "source": [
        "# Work in progress!"
      ]
    }
  ],
  "metadata": {
    "colab": {
      "provenance": [],
      "include_colab_link": true
    },
    "kernelspec": {
      "display_name": "Python 3",
      "name": "python3"
    },
    "language_info": {
      "name": "python"
    }
  },
  "nbformat": 4,
  "nbformat_minor": 0
}